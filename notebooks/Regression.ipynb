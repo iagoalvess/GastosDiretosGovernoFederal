{
 "cells": [
  {
   "cell_type": "code",
   "execution_count": 12,
   "id": "d95783b6-fd3d-46ea-b008-ffd335704a1d",
   "metadata": {},
   "outputs": [],
   "source": [
    "import pandas as pd\n",
    "import matplotlib.pyplot as plt\n",
    "import seaborn as sns\n",
    "from sklearn import linear_model\n",
    "from sklearn.model_selection import train_test_split\n",
    "from sklearn.metrics import mean_squared_error, r2_score"
   ]
  },
  {
   "cell_type": "code",
   "execution_count": null,
   "id": "4a277bb4-e4cc-4846-a21e-df2d9440afe3",
   "metadata": {},
   "outputs": [],
   "source": [
    "# Load dataset\n",
    "gastos_diretos = pd.read_csv('../databases/gastosdiretos_clean.csv', encoding='latin1')"
   ]
  },
  {
   "cell_type": "code",
   "execution_count": null,
   "id": "452ceac0-73a7-4b1b-9f1b-79372580f161",
   "metadata": {},
   "outputs": [],
   "source": [
    "X = gastos_diretos[['ORCAMENTO_INICIAL_R$']].values\n",
    "y = gastos_diretos['ORCAMENTO_REALIZADO_R$'].values\n",
    "\n",
    "\n",
    "X_train, X_test, y_train, y_test = train_test_split(X, y, test_size=0.2, random_state=0)\n",
    "\n",
    "lin_regr = linear_model.LinearRegression()\n",
    "lin_regr.fit(X_train, y_train)\n",
    "\n",
    "y_pred = lin_regr.predict(X_test)\n",
    "\n",
    "print(f'Coeficiente: {lin_regr.coef_[0]:.2f}')\n",
    "print(f'Intercepto: {lin_regr.intercept_:.2f}')\n",
    "print(f'Erro quadrático médio: {mean_squared_error(y_test, y_pred):.2f}')\n",
    "print(f'R²: {r2_score(y_test, y_pred):.2f}')"
   ]
  },
  {
   "cell_type": "code",
   "execution_count": null,
   "id": "6e7c4f2c-5fd6-433f-8462-33192381f2a6",
   "metadata": {},
   "outputs": [],
   "source": [
    "plt.figure(figsize=(15.0, 9.0))\n",
    "sns.regplot(x='ORCAMENTO_INICIAL_R$', y='ORCAMENTO_REALIZADO_R$', data=gastos_diretos, scatter_kws={'s':10}, line_kws={'color':'red'})\n",
    "plt.title('Regressão Linear: Orçamento Inicial vs Orçamento Realizado')\n",
    "plt.xlabel('Orçamento Inicial (R$)')\n",
    "plt.ylabel('Orçamento Realizado (R$)')\n",
    "plt.savefig('../resultados/regressao.png', bbox_inches='tight')\n",
    "plt.show()"
   ]
  }
 ],
 "metadata": {
  "kernelspec": {
   "display_name": "Python 3 (ipykernel)",
   "language": "python",
   "name": "python3"
  },
  "language_info": {
   "codemirror_mode": {
    "name": "ipython",
    "version": 3
   },
   "file_extension": ".py",
   "mimetype": "text/x-python",
   "name": "python",
   "nbconvert_exporter": "python",
   "pygments_lexer": "ipython3",
   "version": "3.11.7"
  }
 },
 "nbformat": 4,
 "nbformat_minor": 5
}
