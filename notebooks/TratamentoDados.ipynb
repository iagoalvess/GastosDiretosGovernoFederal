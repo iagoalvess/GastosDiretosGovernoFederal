{
 "cells": [
  {
   "cell_type": "markdown",
   "metadata": {
    "id": "Nk_h6eSxIPNZ"
   },
   "source": [
    "# Dados Utilizados"
   ]
  },
  {
   "cell_type": "code",
   "execution_count": 81,
   "metadata": {
    "id": "apRnxhY2IOqp"
   },
   "outputs": [],
   "source": [
    "import pandas as pd"
   ]
  },
  {
   "cell_type": "markdown",
   "metadata": {
    "id": "jJWLKgqsIbi5"
   },
   "source": [
    "### Gastos diretos do Governo Federal do Brasil (2014-2019)\n",
    "**Descrição:** Todo gasto que o governo faz com o dinheiro arrecado por meio de impostos ou outras fontes é categorizado. Há despesas em habitação, educação, saúde, segurança, etc. Há despesas que aumentam o patrimônio público e outras que pagam por manutenção. Essa estruturação ajuda a compreender os diferentes aspectos e a acompanhar como o governo utiliza o dinheiro público.\n",
    "\n",
    "Para atender a diferentes objetos, existem diferentes formas de categorizar a despesa ou gasto público. As diferentes categorizações permitem a você saber, por exemplo, quem gastou o dinheiro, em qual área, o que foi contratado ou comprado e a classificação financeira do gasto.\n",
    "\n",
    "O Portal da Transparência possibilita que você consulte as despesas executadas a partir de três diferentes visões: área de atuação do governo (função), ações e programas (estrutura programática) e a visão econômica (natureza da despesa).\n",
    "\n",
    "**Fonte:** [Gastos Diretos do Governo Federal](https://www.kaggle.com/datasets/luizph21/oramento-governo-federal-do-brasil/data)"
   ]
  },
  {
   "cell_type": "code",
   "execution_count": 82,
   "metadata": {
    "colab": {
     "base_uri": "https://localhost:8080/",
     "height": 339
    },
    "id": "1hq5hNdvInS0",
    "outputId": "b91ec6b9-5e6f-4ffb-bf01-9a88d803a65b",
    "scrolled": true
   },
   "outputs": [
    {
     "data": {
      "text/html": [
       "<div>\n",
       "<style scoped>\n",
       "    .dataframe tbody tr th:only-of-type {\n",
       "        vertical-align: middle;\n",
       "    }\n",
       "\n",
       "    .dataframe tbody tr th {\n",
       "        vertical-align: top;\n",
       "    }\n",
       "\n",
       "    .dataframe thead th {\n",
       "        text-align: right;\n",
       "    }\n",
       "</style>\n",
       "<table border=\"1\" class=\"dataframe\">\n",
       "  <thead>\n",
       "    <tr style=\"text-align: right;\">\n",
       "      <th></th>\n",
       "      <th>EXERCÍCIO</th>\n",
       "      <th>NOME ÓRGÃO SUPERIOR</th>\n",
       "      <th>NOME ÓRGÃO SUBORDINADO</th>\n",
       "      <th>NOME UNIDADE ORÇAMENTÁRIA</th>\n",
       "      <th>NOME FUNÇÃO</th>\n",
       "      <th>NOME SUBFUNÇÃO</th>\n",
       "      <th>NOME PROGRAMA ORÇAMENTÁRIO</th>\n",
       "      <th>NOME AÇÃO</th>\n",
       "      <th>NOME CATEGORIA ECONÔMICA</th>\n",
       "      <th>NOME GRUPO DE DESPESA</th>\n",
       "      <th>NOME ELEMENTO DE DESPESA</th>\n",
       "      <th>ORÇAMENTO INICIAL (R$)</th>\n",
       "      <th>ORÇAMENTO ATUALIZADO (R$)</th>\n",
       "      <th>ORÇAMENTO REALIZADO (R$)</th>\n",
       "      <th>Year</th>\n",
       "    </tr>\n",
       "  </thead>\n",
       "  <tbody>\n",
       "    <tr>\n",
       "      <th>0</th>\n",
       "      <td>2014</td>\n",
       "      <td>Presidência da República</td>\n",
       "      <td>Presidência da República</td>\n",
       "      <td>PRESIDENCIA DA REPUBLICA</td>\n",
       "      <td>Administração</td>\n",
       "      <td>Administração geral</td>\n",
       "      <td>PROGRAMA DE GESTAO E MANUTENCAO DA PRESIDENCIA...</td>\n",
       "      <td>COMISSAO NACIONAL DA VERDADE</td>\n",
       "      <td>DESPESA CORRENTE</td>\n",
       "      <td>Outras Despesas Correntes</td>\n",
       "      <td>Diárias - Civil</td>\n",
       "      <td>37165556</td>\n",
       "      <td>37165556</td>\n",
       "      <td>33097148</td>\n",
       "      <td>2014</td>\n",
       "    </tr>\n",
       "    <tr>\n",
       "      <th>1</th>\n",
       "      <td>2014</td>\n",
       "      <td>Presidência da República</td>\n",
       "      <td>Presidência da República</td>\n",
       "      <td>PRESIDENCIA DA REPUBLICA</td>\n",
       "      <td>Administração</td>\n",
       "      <td>Administração geral</td>\n",
       "      <td>PROGRAMA DE GESTAO E MANUTENCAO DA PRESIDENCIA...</td>\n",
       "      <td>COMISSAO NACIONAL DA VERDADE</td>\n",
       "      <td>DESPESA CORRENTE</td>\n",
       "      <td>Outras Despesas Correntes</td>\n",
       "      <td>Contribuições</td>\n",
       "      <td>16525250</td>\n",
       "      <td>16525250</td>\n",
       "      <td>153311271</td>\n",
       "      <td>2014</td>\n",
       "    </tr>\n",
       "    <tr>\n",
       "      <th>2</th>\n",
       "      <td>2014</td>\n",
       "      <td>Presidência da República</td>\n",
       "      <td>Presidência da República</td>\n",
       "      <td>PRESIDENCIA DA REPUBLICA</td>\n",
       "      <td>Administração</td>\n",
       "      <td>Administração geral</td>\n",
       "      <td>PROGRAMA DE GESTAO E MANUTENCAO DA PRESIDENCIA...</td>\n",
       "      <td>COMISSAO NACIONAL DA VERDADE</td>\n",
       "      <td>DESPESA CORRENTE</td>\n",
       "      <td>Outras Despesas Correntes</td>\n",
       "      <td>Outros Serviços de Terceiros - Pessoa Jurídica</td>\n",
       "      <td>12392373</td>\n",
       "      <td>12392373</td>\n",
       "      <td>12219375</td>\n",
       "      <td>2014</td>\n",
       "    </tr>\n",
       "    <tr>\n",
       "      <th>3</th>\n",
       "      <td>2014</td>\n",
       "      <td>Presidência da República</td>\n",
       "      <td>Presidência da República</td>\n",
       "      <td>PRESIDENCIA DA REPUBLICA</td>\n",
       "      <td>Administração</td>\n",
       "      <td>Administração geral</td>\n",
       "      <td>PROGRAMA DE GESTAO E MANUTENCAO DA PRESIDENCIA...</td>\n",
       "      <td>COMISSAO NACIONAL DA VERDADE</td>\n",
       "      <td>DESPESA CORRENTE</td>\n",
       "      <td>Outras Despesas Correntes</td>\n",
       "      <td>Passagens e Despesas com Locomoção</td>\n",
       "      <td>129465808</td>\n",
       "      <td>129465808</td>\n",
       "      <td>118575289</td>\n",
       "      <td>2014</td>\n",
       "    </tr>\n",
       "    <tr>\n",
       "      <th>4</th>\n",
       "      <td>2014</td>\n",
       "      <td>Presidência da República</td>\n",
       "      <td>Presidência da República</td>\n",
       "      <td>PRESIDENCIA DA REPUBLICA</td>\n",
       "      <td>Administração</td>\n",
       "      <td>Administração geral</td>\n",
       "      <td>PROGRAMA DE GESTAO E MANUTENCAO DA PRESIDENCIA...</td>\n",
       "      <td>COMISSAO NACIONAL DA VERDADE</td>\n",
       "      <td>DESPESA CORRENTE</td>\n",
       "      <td>Outras Despesas Correntes</td>\n",
       "      <td>Locação de Mão-de-Obra</td>\n",
       "      <td>1242483</td>\n",
       "      <td>1242483</td>\n",
       "      <td>948542</td>\n",
       "      <td>2014</td>\n",
       "    </tr>\n",
       "  </tbody>\n",
       "</table>\n",
       "</div>"
      ],
      "text/plain": [
       "   EXERCÍCIO       NOME ÓRGÃO SUPERIOR    NOME ÓRGÃO SUBORDINADO  \\\n",
       "0       2014  Presidência da República  Presidência da República   \n",
       "1       2014  Presidência da República  Presidência da República   \n",
       "2       2014  Presidência da República  Presidência da República   \n",
       "3       2014  Presidência da República  Presidência da República   \n",
       "4       2014  Presidência da República  Presidência da República   \n",
       "\n",
       "                       NOME UNIDADE ORÇAMENTÁRIA    NOME FUNÇÃO  \\\n",
       "0  PRESIDENCIA DA REPUBLICA                       Administração   \n",
       "1  PRESIDENCIA DA REPUBLICA                       Administração   \n",
       "2  PRESIDENCIA DA REPUBLICA                       Administração   \n",
       "3  PRESIDENCIA DA REPUBLICA                       Administração   \n",
       "4  PRESIDENCIA DA REPUBLICA                       Administração   \n",
       "\n",
       "        NOME SUBFUNÇÃO                         NOME PROGRAMA ORÇAMENTÁRIO  \\\n",
       "0  Administração geral  PROGRAMA DE GESTAO E MANUTENCAO DA PRESIDENCIA...   \n",
       "1  Administração geral  PROGRAMA DE GESTAO E MANUTENCAO DA PRESIDENCIA...   \n",
       "2  Administração geral  PROGRAMA DE GESTAO E MANUTENCAO DA PRESIDENCIA...   \n",
       "3  Administração geral  PROGRAMA DE GESTAO E MANUTENCAO DA PRESIDENCIA...   \n",
       "4  Administração geral  PROGRAMA DE GESTAO E MANUTENCAO DA PRESIDENCIA...   \n",
       "\n",
       "                      NOME AÇÃO NOME CATEGORIA ECONÔMICA  \\\n",
       "0  COMISSAO NACIONAL DA VERDADE         DESPESA CORRENTE   \n",
       "1  COMISSAO NACIONAL DA VERDADE         DESPESA CORRENTE   \n",
       "2  COMISSAO NACIONAL DA VERDADE         DESPESA CORRENTE   \n",
       "3  COMISSAO NACIONAL DA VERDADE         DESPESA CORRENTE   \n",
       "4  COMISSAO NACIONAL DA VERDADE         DESPESA CORRENTE   \n",
       "\n",
       "       NOME GRUPO DE DESPESA                        NOME ELEMENTO DE DESPESA  \\\n",
       "0  Outras Despesas Correntes                                 Diárias - Civil   \n",
       "1  Outras Despesas Correntes                                   Contribuições   \n",
       "2  Outras Despesas Correntes  Outros Serviços de Terceiros - Pessoa Jurídica   \n",
       "3  Outras Despesas Correntes              Passagens e Despesas com Locomoção   \n",
       "4  Outras Despesas Correntes                          Locação de Mão-de-Obra   \n",
       "\n",
       "   ORÇAMENTO INICIAL (R$)  ORÇAMENTO ATUALIZADO (R$)  \\\n",
       "0                37165556                   37165556   \n",
       "1                16525250                   16525250   \n",
       "2                12392373                   12392373   \n",
       "3               129465808                  129465808   \n",
       "4                 1242483                    1242483   \n",
       "\n",
       "   ORÇAMENTO REALIZADO (R$)  Year  \n",
       "0                  33097148  2014  \n",
       "1                 153311271  2014  \n",
       "2                  12219375  2014  \n",
       "3                 118575289  2014  \n",
       "4                    948542  2014  "
      ]
     },
     "execution_count": 82,
     "metadata": {},
     "output_type": "execute_result"
    }
   ],
   "source": [
    "# Carrega o dataset\n",
    "gastos_diretos = pd.read_csv('../databases/gastosdiretos.csv', encoding='utf-8')\n",
    "gastos_diretos.head()"
   ]
  },
  {
   "cell_type": "markdown",
   "metadata": {},
   "source": [
    "# Exclusão de colunas não interessantes"
   ]
  },
  {
   "cell_type": "code",
   "execution_count": 83,
   "metadata": {},
   "outputs": [],
   "source": [
    "colunas = gastos_diretos.columns.tolist()\n",
    "colunas_para_excluir = [col for col in colunas if 'CÓDIGO' in col]\n",
    "gastos_diretos.drop(columns=colunas_para_excluir, inplace=True)"
   ]
  },
  {
   "cell_type": "markdown",
   "metadata": {},
   "source": [
    "# Valores númericos com tipo objeto"
   ]
  },
  {
   "cell_type": "code",
   "execution_count": 84,
   "metadata": {},
   "outputs": [],
   "source": [
    "# Converte algumas colunas, que possuiam valores não númericos\n",
    "columns = ['ORÇAMENTO INICIAL (R$)', 'ORÇAMENTO ATUALIZADO (R$)', 'ORÇAMENTO REALIZADO (R$)'] \n",
    "def convert_column(df, col):\n",
    "    df[col] = df[col].astype(str)\n",
    "    \n",
    "    df[col] = df[col].str.replace('.', '', regex=False)\n",
    "    df[col] = df[col].str.replace(',', '.', regex=False)\n",
    "    \n",
    "    df[col] = pd.to_numeric(df[col], errors='coerce')\n",
    "\n",
    "for column in columns:\n",
    "    convert_column(gastos_diretos, column)"
   ]
  },
  {
   "cell_type": "markdown",
   "metadata": {},
   "source": [
    "# Salvar dados limpos"
   ]
  },
  {
   "cell_type": "code",
   "execution_count": 85,
   "metadata": {},
   "outputs": [],
   "source": [
    "gastos_diretos.to_csv('../databases/gastosdiretos.csv', index=False)"
   ]
  }
 ],
 "metadata": {
  "colab": {
   "provenance": []
  },
  "kernelspec": {
   "display_name": "Python 3 (ipykernel)",
   "language": "python",
   "name": "python3"
  },
  "language_info": {
   "codemirror_mode": {
    "name": "ipython",
    "version": 3
   },
   "file_extension": ".py",
   "mimetype": "text/x-python",
   "name": "python",
   "nbconvert_exporter": "python",
   "pygments_lexer": "ipython3",
   "version": "3.11.7"
  }
 },
 "nbformat": 4,
 "nbformat_minor": 4
}
