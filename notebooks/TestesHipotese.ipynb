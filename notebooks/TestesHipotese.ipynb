{
 "cells": [
  {
   "cell_type": "code",
   "execution_count": 21,
   "id": "f01af551-d37a-4155-abb9-ca21709569cb",
   "metadata": {},
   "outputs": [],
   "source": [
    "import pandas as pd\n",
    "import matplotlib\n",
    "from matplotlib import pyplot as plt\n",
    "import matplotlib.ticker as ticker\n",
    "import numpy as np\n",
    "import seaborn as sns\n",
    "import scipy.stats as stats\n",
    "sns.set()"
   ]
  },
  {
   "cell_type": "code",
   "execution_count": 22,
   "id": "ebe5068a-6989-4588-bc30-6206887247a5",
   "metadata": {},
   "outputs": [],
   "source": [
    "# Carrega dataset\n",
    "gastos_diretos = pd.read_csv('../databases/gastosdiretos.csv', encoding='utf-8')"
   ]
  },
  {
   "cell_type": "markdown",
   "id": "648be288-79ed-4e12-a003-d17adb7cd642",
   "metadata": {},
   "source": [
    "# Testes de Hipótese\n",
    "\n",
    "## Teste: Gastos realizados entre diferentes categorias econômicas\n",
    "Hipótese Nula (H0): As médias dos gastos realizados são iguais entre todas as categorias econômicas.\n",
    "\n",
    "Hipótese Alternativa (H1): Pelo menos uma das médias dos gastos realizados é diferente entre as categorias econômicas."
   ]
  },
  {
   "cell_type": "code",
   "execution_count": 23,
   "id": "2d35e09e-4935-4ad0-868b-44d5692d7f71",
   "metadata": {},
   "outputs": [
    {
     "name": "stdout",
     "output_type": "stream",
     "text": [
      "Estatística F: 2.7861\n",
      "Valor p: 0.0250\n",
      "Rejeitamos a hipótese nula. As categorias econômicas afetam significativamente os gastos realizados.\n"
     ]
    }
   ],
   "source": [
    "gastos_por_categoria = gastos_diretos.groupby('NOME CATEGORIA ECONÔMICA')['ORÇAMENTO REALIZADO (R$)'].apply(list)\n",
    "\n",
    "# Teste ANOVA\n",
    "f_statistic, p_value = stats.f_oneway(*gastos_por_categoria)\n",
    "\n",
    "print(f'Estatística F: {f_statistic:.4f}')\n",
    "print(f'Valor p: {p_value:.4f}')\n",
    "\n",
    "if p_value < 0.05:\n",
    "    print(\"Rejeitamos a hipótese nula. As categorias econômicas afetam significativamente os gastos realizados.\")\n",
    "else:\n",
    "    print(\"Não rejeitamos a hipótese nula. As categorias econômicas não afetam significativamente os gastos realizados.\")"
   ]
  },
  {
   "cell_type": "markdown",
   "id": "9d8dd17d-f2d9-4847-bd06-bb05b46da00d",
   "metadata": {},
   "source": [
    "## Teste: Gastos realizados entre diferentes funções.\n",
    "\n",
    "Hipótese Nula (H0): As médias dos gastos realizados são iguais entre todas as funções.\n",
    "\n",
    "Hipótese Alternativa (H1): Pelo menos uma das médias dos gastos realizados é diferente entre as "
   ]
  },
  {
   "cell_type": "code",
   "execution_count": 24,
   "id": "f3ccf499-101d-488e-9d8c-860047c1c115",
   "metadata": {},
   "outputs": [
    {
     "name": "stdout",
     "output_type": "stream",
     "text": [
      "Estatística F: 12.3393\n",
      "Valor p: 0.0000\n",
      "Rejeitamos a hipótese nula. As funções afetam significativamente os gastos realizados.\n"
     ]
    }
   ],
   "source": [
    "gastos_por_funcao = gastos_diretos.groupby('NOME FUNÇÃO')['ORÇAMENTO REALIZADO (R$)'].apply(list)\n",
    "\n",
    "f_statistic, p_value = stats.f_oneway(*gastos_por_funcao)\n",
    "\n",
    "print(f'Estatística F: {f_statistic:.4f}')\n",
    "print(f'Valor p: {p_value:.4f}')\n",
    "\n",
    "if p_value < 0.05:\n",
    "    print(\"Rejeitamos a hipótese nula. As funções afetam significativamente os gastos realizados.\")\n",
    "else:\n",
    "    print(\"Não rejeitamos a hipótese nula. As funções não afetam significativamente os gastos realizados.\")"
   ]
  },
  {
   "cell_type": "markdown",
   "id": "9e4afb64-a896-4eda-9385-ed95948855f1",
   "metadata": {},
   "source": [
    "## Teste: Gastos realizados entre diferentes órgãos superiores.\n",
    "\n",
    "Hipótese Nula (H0): As médias dos gastos realizados são iguais entre todos os órgãos superiores.\n",
    "\n",
    "Hipótese Alternativa (H1): Pelo menos uma das médias dos gastos realizados é diferente entre os órgãos superiores."
   ]
  },
  {
   "cell_type": "code",
   "execution_count": 25,
   "id": "2a9907ba-e3c9-46c7-bfce-385568ec0d35",
   "metadata": {},
   "outputs": [
    {
     "name": "stdout",
     "output_type": "stream",
     "text": [
      "Estatística F: 36.6781\n",
      "Valor p: 0.0000\n",
      "Rejeitamos a hipótese nula. Os órgãos superiores afetam significativamente os gastos realizados.\n"
     ]
    }
   ],
   "source": [
    "gastos_por_orgao_superior = gastos_diretos.groupby('NOME ÓRGÃO SUPERIOR')['ORÇAMENTO REALIZADO (R$)'].apply(list)\n",
    "\n",
    "f_statistic, p_value = stats.f_oneway(*gastos_por_orgao_superior)\n",
    "\n",
    "print(f'Estatística F: {f_statistic:.4f}')\n",
    "print(f'Valor p: {p_value:.4f}')\n",
    "\n",
    "if p_value < 0.05:\n",
    "    print(\"Rejeitamos a hipótese nula. Os órgãos superiores afetam significativamente os gastos realizados.\")\n",
    "else:\n",
    "    print(\"Não rejeitamos a hipótese nula. Os órgãos superiores não afetam significativamente os gastos realizados.\")"
   ]
  },
  {
   "cell_type": "markdown",
   "id": "10aae96a-7bf9-4bf6-b6c2-c4de5b897ce2",
   "metadata": {},
   "source": [
    "# Intervalos de Confiança"
   ]
  },
  {
   "cell_type": "code",
   "execution_count": 26,
   "id": "66b90407-23bb-4184-9ec0-4c078e376e84",
   "metadata": {},
   "outputs": [
    {
     "name": "stdout",
     "output_type": "stream",
     "text": [
      "Intervalo de Confiança para DESPESAS CORRENTES: (3861676771.7773914, 6611853948.729307)\n",
      "Intervalo de Confiança para DESPESAS DE CAPITAL: (3811194527.0582542, 20658402745.316418)\n"
     ]
    }
   ],
   "source": [
    "def ic(df, column):\n",
    "    data = df[column]\n",
    "    mean = data.mean()\n",
    "    std = data.std(ddof=1)\n",
    "    se = std / np.sqrt(len(data))\n",
    "    return (mean - 1.96 * se, mean + 1.96 * se)\n",
    "\n",
    "ic_categoria1 = ic(gastos_diretos[gastos_diretos['NOME CATEGORIA ECONÔMICA'] == 'DESPESAS CORRENTES'], 'ORÇAMENTO REALIZADO (R$)')\n",
    "ic_categoria2 = ic(gastos_diretos[gastos_diretos['NOME CATEGORIA ECONÔMICA'] == 'DESPESAS DE CAPITAL'], 'ORÇAMENTO REALIZADO (R$)')\n",
    "\n",
    "# Os gastos realizados estimados com 95% de confiança\n",
    "print(f'Intervalo de Confiança para DESPESAS CORRENTES: {ic_categoria1}')\n",
    "print(f'Intervalo de Confiança para DESPESAS DE CAPITAL: {ic_categoria2}')"
   ]
  }
 ],
 "metadata": {
  "kernelspec": {
   "display_name": "Python 3 (ipykernel)",
   "language": "python",
   "name": "python3"
  },
  "language_info": {
   "codemirror_mode": {
    "name": "ipython",
    "version": 3
   },
   "file_extension": ".py",
   "mimetype": "text/x-python",
   "name": "python",
   "nbconvert_exporter": "python",
   "pygments_lexer": "ipython3",
   "version": "3.11.7"
  }
 },
 "nbformat": 4,
 "nbformat_minor": 5
}
